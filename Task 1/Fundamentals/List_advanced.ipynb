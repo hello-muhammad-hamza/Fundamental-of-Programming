{
  "nbformat": 4,
  "nbformat_minor": 0,
  "metadata": {
    "colab": {
      "provenance": []
    },
    "kernelspec": {
      "name": "python3",
      "display_name": "Python 3"
    },
    "language_info": {
      "name": "python"
    }
  },
  "cells": [
    {
      "cell_type": "code",
      "execution_count": null,
      "metadata": {
        "colab": {
          "base_uri": "https://localhost:8080/"
        },
        "id": "ORztumZI2Ohc",
        "outputId": "0a05144a-0934-4680-91b1-3f6cf31c6e87"
      },
      "outputs": [
        {
          "output_type": "stream",
          "name": "stdout",
          "text": [
            "marks :  [11, 22, 33, 44, 55, 66, 77, 88, 99]\n",
            "<class 'list'>\n",
            "9\n",
            "22\n"
          ]
        }
      ],
      "source": [
        "# Topic : List\n",
        "#             List is a type of data structures in which we add different kind of data i-e: integer,float,string etc.\n",
        "#  List is mutable and store data in square bracket seperated by comma.\n",
        "\n",
        "\n",
        "# Topic : List\n",
        "marks = [11,22,33,44,55,66,77,88,99]\n",
        "print(\"marks : \" , marks)\n",
        "print(type(marks))\n",
        "print(len(marks))                         # Note:\n",
        "print(marks[1])                           # strings,tuple are immutable and lists are mutable.\n",
        "\n"
      ]
    },
    {
      "cell_type": "code",
      "source": [
        "# List mutable example;\n",
        "student = [\"Ali\",100,\"Mathematics\",\"Pass\"]\n",
        "print(student)\n",
        "print(len(student))\n",
        "print(student[0])\n",
        "student[0] = \"Hamza\" # Mutation\n",
        "print(student)\n"
      ],
      "metadata": {
        "colab": {
          "base_uri": "https://localhost:8080/"
        },
        "id": "lH9ZIIZ-21jp",
        "outputId": "de6eecc0-a037-48fe-9f7e-a5e914ef7176"
      },
      "execution_count": null,
      "outputs": [
        {
          "output_type": "stream",
          "name": "stdout",
          "text": [
            "['Ali', 100, 'Mathematics', 'Pass']\n",
            "4\n",
            "Ali\n",
            "['Hamza', 100, 'Mathematics', 'Pass']\n"
          ]
        }
      ]
    },
    {
      "cell_type": "code",
      "source": [
        "# List slicing;                  similar to string\n",
        "#             It means to break the data in the list.\n",
        "numbers = [\"ali\" ,111,\"usman\",222,\"shah\",333]\n",
        "print(numbers[0:4]) # Forward slicing\n",
        "print(numbers[-4:-1]) # Reverse slicing\n"
      ],
      "metadata": {
        "colab": {
          "base_uri": "https://localhost:8080/"
        },
        "id": "GwfegG-_BJSI",
        "outputId": "6a3351ab-4aae-4e5d-cec3-09755ee125a5"
      },
      "execution_count": 1,
      "outputs": [
        {
          "output_type": "stream",
          "name": "stdout",
          "text": [
            "['ali', 111, 'usman', 222]\n",
            "['usman', 222, 'shah']\n"
          ]
        }
      ]
    },
    {
      "cell_type": "code",
      "source": [
        "# List Methods\n",
        "# Methods are some specific commands which is used in each data type\n",
        "# Methods are specific in each and every data type or they may be same but not all.\n",
        "# For instance: if a one method is same for \"list\" may not be same for \"tupple\" or it may be same.\n",
        "\n",
        "\n"
      ],
      "metadata": {
        "id": "f6SkgzxmBm4r"
      },
      "execution_count": 2,
      "outputs": []
    },
    {
      "cell_type": "code",
      "source": [
        "# apend function\n",
        "a = [111,222,333,444,555,]\n",
        "a.append(666)\n",
        "print(a)\n",
        " # example1\n",
        "a1 = [\"apple:\",\"peach\",\"banana\"]\n",
        "a1.append(\"fruits\")\n",
        "print(a1)"
      ],
      "metadata": {
        "colab": {
          "base_uri": "https://localhost:8080/"
        },
        "id": "l1lk-GxmBo90",
        "outputId": "c28db5f7-d6bc-4cc5-fdeb-3c661cd48dc1"
      },
      "execution_count": 3,
      "outputs": [
        {
          "output_type": "stream",
          "name": "stdout",
          "text": [
            "[111, 222, 333, 444, 555, 666]\n",
            "['apple:', 'peach', 'banana', 'fruits']\n"
          ]
        }
      ]
    },
    {
      "cell_type": "code",
      "source": [
        "# insert function\n",
        "b = [111,222,333,444,555,]\n",
        "b.insert(1,999)\n",
        "print(b)\n",
        "# Example1\n",
        "b1 = [\"apple\",\"peach\",\"banana\"]\n",
        "b1.insert(0 ,\"fruits\")\n",
        "print(b1)\n"
      ],
      "metadata": {
        "colab": {
          "base_uri": "https://localhost:8080/"
        },
        "id": "FcrEjZpABzzy",
        "outputId": "701d39f0-04ef-46e4-99e9-913feafcd2ca"
      },
      "execution_count": 4,
      "outputs": [
        {
          "output_type": "stream",
          "name": "stdout",
          "text": [
            "[111, 999, 222, 333, 444, 555]\n",
            "['fruits', 'apple', 'peach', 'banana']\n"
          ]
        }
      ]
    },
    {
      "cell_type": "code",
      "source": [
        "# remove fuction\n",
        "c = [111,222,333,444,555]\n",
        "c.remove(444)\n",
        "print(c)\n",
        " # example1\n",
        "c1 =[\"apple\",\"peach\",\"banana\"]\n",
        "c1.remove(\"apple\")\n",
        "print(c1)"
      ],
      "metadata": {
        "colab": {
          "base_uri": "https://localhost:8080/"
        },
        "id": "Akj1C7Z_B_Nx",
        "outputId": "00da7fa1-3988-47eb-b587-5e39675311ae"
      },
      "execution_count": 5,
      "outputs": [
        {
          "output_type": "stream",
          "name": "stdout",
          "text": [
            "[111, 222, 333, 555]\n",
            "['peach', 'banana']\n"
          ]
        }
      ]
    },
    {
      "cell_type": "code",
      "source": [
        "# remove fuction\n",
        "c = [111,222,333,444,555]\n",
        "c.remove(444)\n",
        "print(c)\n",
        " # example1\n",
        "c1 =[\"apple\",\"peach\",\"banana\"]\n",
        "c1.remove(\"apple\")\n",
        "print(c1)\n"
      ],
      "metadata": {
        "colab": {
          "base_uri": "https://localhost:8080/"
        },
        "id": "pE5KYxv-CHHm",
        "outputId": "1d19f2b2-3961-47d9-a0d8-41f2da094b70"
      },
      "execution_count": 6,
      "outputs": [
        {
          "output_type": "stream",
          "name": "stdout",
          "text": [
            "[111, 222, 333, 555]\n",
            "['peach', 'banana']\n"
          ]
        }
      ]
    },
    {
      "cell_type": "code",
      "source": [
        "# sort function     for ascending order;\n",
        "# IN numerical numbers example\n",
        "e = [222,000,999,333,444,555,111]\n",
        "e.sort()\n",
        "print(e)\n",
        "# Example1\n",
        "# In alphabetical values\n",
        "e1 = [\"vegetables\", \"fruits\", \"mango\", \"pomegranate\", \"apple\", \"ladyfinger\"]\n",
        "e1.sort()\n",
        "print(e1)\n"
      ],
      "metadata": {
        "colab": {
          "base_uri": "https://localhost:8080/"
        },
        "id": "AkJfIx7cCT_I",
        "outputId": "50f40e72-d5e5-4a9e-a597-2c9c8e87a5cc"
      },
      "execution_count": 7,
      "outputs": [
        {
          "output_type": "stream",
          "name": "stdout",
          "text": [
            "[0, 111, 222, 333, 444, 555, 999]\n",
            "['apple', 'fruits', 'ladyfinger', 'mango', 'pomegranate', 'vegetables']\n"
          ]
        }
      ]
    },
    {
      "cell_type": "code",
      "source": [
        "# sort reverse function;  for the descending order\n",
        "# Example of numerical numbers;\n",
        "f = [2, 4, 1, 9, 4, 55, 0, 50, 100]\n",
        "f.sort(reverse=True)\n",
        "print(f)\n",
        "# Example2 of alphabatical values;\n",
        "f1 = [\"e\",\"w\",\"f\",\"t\",\"o\",\"r\",\"q\",\"x\",\"z\"]\n",
        "f1.sort(reverse=True)\n",
        "print(f1)"
      ],
      "metadata": {
        "colab": {
          "base_uri": "https://localhost:8080/"
        },
        "id": "fNLaYNVXCaeV",
        "outputId": "be179a4b-c282-4a3c-e88e-ffec525d7bb8"
      },
      "execution_count": 8,
      "outputs": [
        {
          "output_type": "stream",
          "name": "stdout",
          "text": [
            "[100, 55, 50, 9, 4, 4, 2, 1, 0]\n",
            "['z', 'x', 'w', 't', 'r', 'q', 'o', 'f', 'e']\n"
          ]
        }
      ]
    },
    {
      "cell_type": "code",
      "source": [
        "# Reverse function :\n",
        "#                   It reverses all the data in the list.s\n",
        "g = [1, 2, 3, 4, 5, 6, 7, 8, 9]\n",
        "g.reverse()\n",
        "print(g)\n",
        "# Example1           Alphabatical order;\n",
        "g1 = [\"ali\",\"usman\",\"umar\",\"zaid\",\"khan\"]\n",
        "g1.reverse()\n",
        "print(g1)\n",
        "# Example3    As a float example\n",
        "g3 = [1.2, 3.3, 3.1, 4.5, 6.5, 9.3]\n",
        "g3.reverse()\n",
        "print(g3)\n"
      ],
      "metadata": {
        "colab": {
          "base_uri": "https://localhost:8080/"
        },
        "id": "qyMQOgiGCk0c",
        "outputId": "f2182a0e-4a21-4f84-ea44-f50748f32221"
      },
      "execution_count": 9,
      "outputs": [
        {
          "output_type": "stream",
          "name": "stdout",
          "text": [
            "[9, 8, 7, 6, 5, 4, 3, 2, 1]\n",
            "['khan', 'zaid', 'umar', 'usman', 'ali']\n",
            "[9.3, 6.5, 4.5, 3.1, 3.3, 1.2]\n"
          ]
        }
      ]
    },
    {
      "cell_type": "code",
      "source": [
        "# Count function:\n",
        "#                It counts the data in the list that how much the data is repeated.\n",
        "h = [22,33,44,55,66,77,77,77,88]\n",
        "h1=h.count(77)\n",
        "print(h1)\n",
        "# Example3 Alphabatical order;\n",
        "h3 = [\"ali\",\"raja\",\"usman\",\"raja\",\"musa\"]\n",
        "h4=h3.count(\"raja\")\n",
        "print(h4)"
      ],
      "metadata": {
        "colab": {
          "base_uri": "https://localhost:8080/"
        },
        "id": "o7-QSDHbCr5W",
        "outputId": "1067c669-5e25-47d6-926f-ecdb25518fc7"
      },
      "execution_count": 10,
      "outputs": [
        {
          "output_type": "stream",
          "name": "stdout",
          "text": [
            "3\n",
            "2\n"
          ]
        }
      ]
    },
    {
      "cell_type": "code",
      "source": [
        "# Clear function\n",
        "#               It removes the all data store in the list.\n",
        "j = [2, 4.4, 2.1, 5, 5.6, 7, 6.4]\n",
        "j.clear()\n",
        "print(j)\n",
        "# Example2  Alphabatical values\n",
        "j1 = [\"apple\",\"peach\",\"pomegranate\"]\n",
        "j1.clear()\n",
        "print(j1)"
      ],
      "metadata": {
        "colab": {
          "base_uri": "https://localhost:8080/"
        },
        "id": "Ynk_4vLxC0K0",
        "outputId": "ccc0771d-d6fb-4a0b-dce9-569c46b0020c"
      },
      "execution_count": 11,
      "outputs": [
        {
          "output_type": "stream",
          "name": "stdout",
          "text": [
            "[]\n",
            "[]\n"
          ]
        }
      ]
    },
    {
      "cell_type": "code",
      "source": [
        "# Copy function:\n",
        "#               It is used to copy the list data.\n",
        "i = [9,4,3,2,5]\n",
        "i.copy()\n",
        "print(i)\n",
        "# Example1 Alphabatical value\n",
        "i1 = [\"ghee\",\"oil\",\"vegetable\"]\n",
        "i1.copy()\n",
        "print(i1)\n"
      ],
      "metadata": {
        "colab": {
          "base_uri": "https://localhost:8080/"
        },
        "id": "rPvhl1qxC-CI",
        "outputId": "72f71bb8-cf47-4691-f78e-93e0316769e8"
      },
      "execution_count": 12,
      "outputs": [
        {
          "output_type": "stream",
          "name": "stdout",
          "text": [
            "[9, 4, 3, 2, 5]\n",
            "['ghee', 'oil', 'vegetable']\n"
          ]
        }
      ]
    },
    {
      "cell_type": "code",
      "source": [
        "# index function:\n",
        "#\n",
        "k = [333,222,111,444,555]\n",
        "k1=k.index(444)\n",
        "print(k1)\n"
      ],
      "metadata": {
        "colab": {
          "base_uri": "https://localhost:8080/"
        },
        "id": "DDP1N3-ZDD3y",
        "outputId": "8fbd0e52-d147-4449-aa84-4a71aa9f6875"
      },
      "execution_count": 13,
      "outputs": [
        {
          "output_type": "stream",
          "name": "stdout",
          "text": [
            "3\n"
          ]
        }
      ]
    },
    {
      "cell_type": "code",
      "source": [
        "# Converting method of string to list.\n",
        "# We can convert the string into list on the following way i-e;\n",
        "variable = \"wxyz\"\n",
        "variable = list(variable)\n",
        "print(variable)\n",
        "print(type(variable))"
      ],
      "metadata": {
        "colab": {
          "base_uri": "https://localhost:8080/"
        },
        "id": "hyViCdhuDLLv",
        "outputId": "b42fde71-5259-469f-d64f-ba724592a788"
      },
      "execution_count": 14,
      "outputs": [
        {
          "output_type": "stream",
          "name": "stdout",
          "text": [
            "['w', 'x', 'y', 'z']\n",
            "<class 'list'>\n"
          ]
        }
      ]
    }
  ]
}