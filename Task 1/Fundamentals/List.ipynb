{
  "nbformat": 4,
  "nbformat_minor": 0,
  "metadata": {
    "colab": {
      "provenance": []
    },
    "kernelspec": {
      "name": "python3",
      "display_name": "Python 3"
    },
    "language_info": {
      "name": "python"
    }
  },
  "cells": [
    {
      "cell_type": "markdown",
      "source": [
        "\n",
        "\n",
        "\n"
      ],
      "metadata": {
        "id": "_H8ousjDnFld"
      }
    },
    {
      "cell_type": "code",
      "execution_count": null,
      "metadata": {
        "id": "T2_ralhRm6pg"
      },
      "outputs": [],
      "source": [
        "subj = ['English',' Urdu' ,' Pak']\n",
        "print(subj)\n",
        "\n",
        "# append for add something in the list.\n",
        "subj1 = ['English , Urdu , Pak']\n",
        "subj1.append('Biology')\n",
        "print(subj1)\n",
        "\n",
        "# insert for add something in specific place.\n",
        "subj2 = ['English , Urdu , Pak']\n",
        "subj2.insert(0,'Biology')\n",
        "print(subj2)\n",
        "\n",
        "#Extend method in list.\n",
        "courses = ['pashto, pujabi ,sindhi , arabi']\n",
        "courses2 = ['hindi , latini']\n",
        "courses.extend(courses2)\n",
        "print(courses)\n",
        "\n",
        "# remove method\n",
        "books = ['a','b','c','d']\n",
        "books.reverse()\n",
        "print(books)\n",
        "\n",
        "# sort method and reverse sort method.\n",
        "x = [2,3,1,5,4]\n",
        "x.sort()\n",
        "print(x)\n",
        "\n",
        "# index in list\n",
        "z = ['ab', 'cd', 'ef',' gh', 'kl']\n",
        "print(z.index('kl'))\n",
        "print(\"cd\" in z) # for presence any word or letter."
      ]
    },
    {
      "cell_type": "markdown",
      "source": [],
      "metadata": {
        "id": "CeOKLRVFnADU"
      }
    }
  ]
}