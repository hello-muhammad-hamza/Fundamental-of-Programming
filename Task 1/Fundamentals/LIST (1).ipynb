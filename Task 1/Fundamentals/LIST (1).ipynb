{
  "nbformat": 4,
  "nbformat_minor": 0,
  "metadata": {
    "colab": {
      "provenance": []
    },
    "kernelspec": {
      "name": "python3",
      "display_name": "Python 3"
    },
    "language_info": {
      "name": "python"
    }
  },
  "cells": [
    {
      "cell_type": "code",
      "source": [
        "\n",
        "# TOPIC : LIST ;\n",
        "subj = ['English',' Urdu' ,' Pak']\n",
        "print(subj)\n",
        "\n",
        "# append for add something in the list.\n",
        "subj1 = ['English , Urdu , Pak']\n",
        "subj1.append('Biology')\n",
        "print(subj1)\n",
        "\n",
        "# insert for add something in specific place.\n",
        "subj2 = ['English , Urdu , Pak']\n",
        "subj2.insert(0,'Biology')\n",
        "print(subj2)\n",
        "\n",
        "#Extend method in list.\n",
        "courses = ['pashto, pujabi ,sindhi , arabi']\n",
        "courses2 = ['hindi , latini']\n",
        "courses.extend(courses2)\n",
        "print(courses)\n",
        "\n",
        "# remove method\n",
        "books = ['a','b','c','d']\n",
        "books.reverse()\n",
        "print(books)\n",
        "\n",
        "# sort method and reverse sort method.\n",
        "x = [2,3,1,5,4]\n",
        "x.sort()\n",
        "print(x)\n",
        "\n",
        "# index in list\n",
        "z = ['ab', 'cd', 'ef',' gh', 'kl']\n",
        "print(z.index('kl'))\n",
        "print(\"cd\" in z) # for presence any word or letter.\n",
        "\n"
      ],
      "metadata": {
        "colab": {
          "base_uri": "https://localhost:8080/"
        },
        "id": "b-OSP5yB8Zlm",
        "outputId": "4c66096e-07e0-4001-c7b0-7c1f0943691d"
      },
      "execution_count": 1,
      "outputs": [
        {
          "output_type": "stream",
          "name": "stdout",
          "text": [
            "['English', ' Urdu', ' Pak']\n",
            "['English , Urdu , Pak', 'Biology']\n",
            "['Biology', 'English , Urdu , Pak']\n",
            "['pashto, pujabi ,sindhi , arabi', 'hindi , latini']\n",
            "['d', 'c', 'b', 'a']\n",
            "[1, 2, 3, 4, 5]\n",
            "4\n",
            "True\n"
          ]
        }
      ]
    },
    {
      "cell_type": "code",
      "source": [],
      "metadata": {
        "id": "Qh767Kj78Zx6"
      },
      "execution_count": null,
      "outputs": []
    }
  ]
}